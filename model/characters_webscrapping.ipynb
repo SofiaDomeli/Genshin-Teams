{
 "cells": [
  {
   "cell_type": "code",
   "execution_count": 2,
   "metadata": {},
   "outputs": [],
   "source": [
    "import pandas as pd\n",
    "\n",
    "#fetching url\n",
    "url_1='https://genshin-impact.fandom.com/wiki/Characters/Comparison#Normal_Attacks'\n",
    "url_2='https://genshin-impact.fandom.com/wiki/Characters'\n",
    "\n",
    "#parsing table from url1 & url2 to dataframe\n",
    "tables_1 = pd.read_html(url_1)\n",
    "tables_2 = pd.read_html(url_2)\n",
    "df1 = tables_1[0]\n",
    "df2 = tables_2[1]\n",
    "\n",
    "## Removing NaN columns & merge 2 datasets into 1\n",
    "df1 = df1.drop(['Icon'], axis = 1)\n",
    "df2 = df2.drop(['Icon'], axis = 1)\n",
    "df3 = df1.merge(df2)"
   ]
  },
  {
   "cell_type": "code",
   "execution_count": 3,
   "metadata": {},
   "outputs": [],
   "source": [
    "df3.to_excel(\"genshin.xlsx\", index=False)"
   ]
  },
  {
   "cell_type": "code",
   "execution_count": null,
   "metadata": {},
   "outputs": [],
   "source": []
  }
 ],
 "metadata": {
  "kernelspec": {
   "display_name": "Python 3",
   "language": "python",
   "name": "python3"
  },
  "language_info": {
   "codemirror_mode": {
    "name": "ipython",
    "version": 3
   },
   "file_extension": ".py",
   "mimetype": "text/x-python",
   "name": "python",
   "nbconvert_exporter": "python",
   "pygments_lexer": "ipython3",
   "version": "3.11.4"
  }
 },
 "nbformat": 4,
 "nbformat_minor": 2
}
