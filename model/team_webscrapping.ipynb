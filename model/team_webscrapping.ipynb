{
 "cells": [
  {
   "cell_type": "code",
   "execution_count": 20,
   "metadata": {},
   "outputs": [],
   "source": [
    "import pandas as pd\n",
    "from selenium.webdriver.chrome.options import Options\n",
    "from selenium.webdriver.common.by import By\n",
    "from time import sleep\n",
    "from selenium import webdriver\n",
    "from selenium.webdriver.support.ui import WebDriverWait\n",
    "from selenium.webdriver.support import expected_conditions as EC"
   ]
  },
  {
   "cell_type": "code",
   "execution_count": 21,
   "metadata": {},
   "outputs": [],
   "source": [
    "df = {'character_1':[], 'character_2':[], 'character_3':[], 'character_4':[], 'use_rate':[]}"
   ]
  },
  {
   "cell_type": "code",
   "execution_count": 22,
   "metadata": {},
   "outputs": [
    {
     "ename": "TimeoutException",
     "evalue": "Message: \n",
     "output_type": "error",
     "traceback": [
      "\u001b[1;31m---------------------------------------------------------------------------\u001b[0m",
      "\u001b[1;31mTimeoutException\u001b[0m                          Traceback (most recent call last)",
      "Cell \u001b[1;32mIn[22], line 42\u001b[0m\n\u001b[0;32m     38\u001b[0m     use_rate \u001b[38;5;241m=\u001b[39m WebDriverWait(driver, \u001b[38;5;241m10\u001b[39m)\u001b[38;5;241m.\u001b[39muntil(\n\u001b[0;32m     39\u001b[0m         EC\u001b[38;5;241m.\u001b[39mpresence_of_element_located((By\u001b[38;5;241m.\u001b[39mXPATH, \u001b[38;5;124mf\u001b[39m\u001b[38;5;124m\"\u001b[39m\u001b[38;5;124m/html/body/div/div[1]/div[2]/main/div[3]/div/div[\u001b[39m\u001b[38;5;132;01m{\u001b[39;00mi\u001b[38;5;241m+\u001b[39m\u001b[38;5;241m1\u001b[39m\u001b[38;5;132;01m}\u001b[39;00m\u001b[38;5;124m]/div[2]/div[1]/span\u001b[39m\u001b[38;5;124m\"\u001b[39m))\n\u001b[0;32m     40\u001b[0m     )\u001b[38;5;241m.\u001b[39mtext\n\u001b[0;32m     41\u001b[0m     df[\u001b[38;5;124m'\u001b[39m\u001b[38;5;124muse_rate\u001b[39m\u001b[38;5;124m'\u001b[39m]\u001b[38;5;241m.\u001b[39mappend(use_rate)\n\u001b[1;32m---> 42\u001b[0m next_tab \u001b[38;5;241m=\u001b[39m \u001b[43mWebDriverWait\u001b[49m\u001b[43m(\u001b[49m\u001b[43mdriver\u001b[49m\u001b[43m,\u001b[49m\u001b[43m \u001b[49m\u001b[38;5;241;43m10\u001b[39;49m\u001b[43m)\u001b[49m\u001b[38;5;241;43m.\u001b[39;49m\u001b[43muntil\u001b[49m\u001b[43m(\u001b[49m\n\u001b[0;32m     43\u001b[0m \u001b[43m    \u001b[49m\u001b[43mEC\u001b[49m\u001b[38;5;241;43m.\u001b[39;49m\u001b[43melement_to_be_clickable\u001b[49m\u001b[43m(\u001b[49m\u001b[43m(\u001b[49m\u001b[43mBy\u001b[49m\u001b[38;5;241;43m.\u001b[39;49m\u001b[43mXPATH\u001b[49m\u001b[43m,\u001b[49m\u001b[43m \u001b[49m\u001b[38;5;124;43m\"\u001b[39;49m\u001b[38;5;124;43m/html/body/div/div[1]/div[2]/main/div[3]/div/ul/li[3]/button\u001b[39;49m\u001b[38;5;124;43m\"\u001b[39;49m\u001b[43m)\u001b[49m\u001b[43m)\u001b[49m\n\u001b[0;32m     44\u001b[0m \u001b[43m\u001b[49m\u001b[43m)\u001b[49m\n\u001b[0;32m     45\u001b[0m next_tab\u001b[38;5;241m.\u001b[39mclick()\n",
      "File \u001b[1;32m~\\AppData\\Roaming\\Python\\Python311\\site-packages\\selenium\\webdriver\\support\\wait.py:105\u001b[0m, in \u001b[0;36mWebDriverWait.until\u001b[1;34m(self, method, message)\u001b[0m\n\u001b[0;32m    103\u001b[0m     \u001b[38;5;28;01mif\u001b[39;00m time\u001b[38;5;241m.\u001b[39mmonotonic() \u001b[38;5;241m>\u001b[39m end_time:\n\u001b[0;32m    104\u001b[0m         \u001b[38;5;28;01mbreak\u001b[39;00m\n\u001b[1;32m--> 105\u001b[0m \u001b[38;5;28;01mraise\u001b[39;00m TimeoutException(message, screen, stacktrace)\n",
      "\u001b[1;31mTimeoutException\u001b[0m: Message: \n"
     ]
    }
   ],
   "source": [
    "chrome_options = Options()\n",
    "chrome_options.add_argument(\"--headless\")\n",
    "\n",
    "#\"Abrindo\" o Chrome:\n",
    "driver = webdriver.Chrome(options=chrome_options)\n",
    "\n",
    "#Abrindo o site da vakinha:\n",
    "driver.get('https://seelie.moe/abyss')\n",
    "\n",
    "teams_tab = WebDriverWait(driver, 10).until(\n",
    "    EC.element_to_be_clickable((By.XPATH, \"/html/body/div/div[1]/div[2]/main/div[1]/button[2]\"))\n",
    ")\n",
    "teams_tab.click()\n",
    "\n",
    "for _ in range(10):\n",
    "    for i in range(10):\n",
    "        person_1 = WebDriverWait(driver, 10).until(\n",
    "            EC.presence_of_element_located((By.XPATH, f\"/html/body/div/div[1]/div[2]/main/div[3]/div/div[{i+1}]/div[1]/div[1]/a/img[1]\"))\n",
    "        ).accessible_name.split(' icon')[0]\n",
    "        try:\n",
    "            person_2 = WebDriverWait(driver, 10).until(\n",
    "                EC.presence_of_element_located((By.XPATH, f\"/html/body/div/div[1]/div[2]/main/div[3]/div/div[{i+1}]/div[1]/div[2]/a/img[1]\"))\n",
    "            ).accessible_name.split(' icon')[0]\n",
    "            person_3 = WebDriverWait(driver, 10).until(\n",
    "                EC.presence_of_element_located((By.XPATH, f\"/html/body/div/div[1]/div[2]/main/div[3]/div/div[{i+1}]/div[1]/div[3]/a/img[1]\"))\n",
    "            ).accessible_name.split(' icon')[0]\n",
    "            person_4 = WebDriverWait(driver, 10).until(\n",
    "                EC.presence_of_element_located((By.XPATH, f\"/html/body/div/div[1]/div[2]/main/div[3]/div/div[{i+1}]/div[1]/div[4]/a/img[1]\"))\n",
    "            ).accessible_name.split(' icon')[0]\n",
    "            df['character_2'].append(person_2)\n",
    "            df['character_3'].append(person_3)\n",
    "            df['character_4'].append(person_4)\n",
    "        except:\n",
    "            df['character_2'].append('')\n",
    "            df['character_3'].append('')\n",
    "            df['character_4'].append('')\n",
    "        df['character_1'].append(person_1)\n",
    "        use_rate = WebDriverWait(driver, 10).until(\n",
    "            EC.presence_of_element_located((By.XPATH, f\"/html/body/div/div[1]/div[2]/main/div[3]/div/div[{i+1}]/div[2]/div[1]/span\"))\n",
    "        ).text\n",
    "        df['use_rate'].append(use_rate)\n",
    "    next_tab = WebDriverWait(driver, 10).until(\n",
    "        EC.element_to_be_clickable((By.XPATH, \"/html/body/div/div[1]/div[2]/main/div[3]/div/ul/li[3]/button\"))\n",
    "    )\n",
    "    next_tab.click()"
   ]
  },
  {
   "cell_type": "code",
   "execution_count": 23,
   "metadata": {},
   "outputs": [],
   "source": [
    "df = pd.DataFrame(df)"
   ]
  },
  {
   "cell_type": "code",
   "execution_count": 33,
   "metadata": {},
   "outputs": [],
   "source": [
    "df.to_excel('teams.xlsx', index=False)"
   ]
  },
  {
   "cell_type": "code",
   "execution_count": 25,
   "metadata": {},
   "outputs": [
    {
     "name": "stdout",
     "output_type": "stream",
     "text": [
      "100\n",
      "100\n",
      "100\n",
      "100\n",
      "100\n"
     ]
    }
   ],
   "source": [
    "for key in df:\n",
    "    print(len(df[key]))"
   ]
  },
  {
   "cell_type": "code",
   "execution_count": 32,
   "metadata": {},
   "outputs": [
    {
     "data": {
      "text/html": [
       "<div>\n",
       "<style scoped>\n",
       "    .dataframe tbody tr th:only-of-type {\n",
       "        vertical-align: middle;\n",
       "    }\n",
       "\n",
       "    .dataframe tbody tr th {\n",
       "        vertical-align: top;\n",
       "    }\n",
       "\n",
       "    .dataframe thead th {\n",
       "        text-align: right;\n",
       "    }\n",
       "</style>\n",
       "<table border=\"1\" class=\"dataframe\">\n",
       "  <thead>\n",
       "    <tr style=\"text-align: right;\">\n",
       "      <th></th>\n",
       "      <th>character_1</th>\n",
       "      <th>character_2</th>\n",
       "      <th>character_3</th>\n",
       "      <th>character_4</th>\n",
       "      <th>use_rate</th>\n",
       "    </tr>\n",
       "  </thead>\n",
       "  <tbody>\n",
       "    <tr>\n",
       "      <th>0</th>\n",
       "      <td>Kazuha</td>\n",
       "      <td>Neuvillette</td>\n",
       "      <td>Furina</td>\n",
       "      <td>Xilonen</td>\n",
       "      <td>0.124</td>\n",
       "    </tr>\n",
       "    <tr>\n",
       "      <th>1</th>\n",
       "      <td>Kazuha</td>\n",
       "      <td>Baizhu</td>\n",
       "      <td>Neuvillette</td>\n",
       "      <td>Furina</td>\n",
       "      <td>0.050</td>\n",
       "    </tr>\n",
       "    <tr>\n",
       "      <th>2</th>\n",
       "      <td>Zhongli</td>\n",
       "      <td>Kazuha</td>\n",
       "      <td>Neuvillette</td>\n",
       "      <td>Furina</td>\n",
       "      <td>0.044</td>\n",
       "    </tr>\n",
       "    <tr>\n",
       "      <th>3</th>\n",
       "      <td>Zhongli</td>\n",
       "      <td>Hu Tao</td>\n",
       "      <td>Yelan</td>\n",
       "      <td>Xingqiu</td>\n",
       "      <td>0.041</td>\n",
       "    </tr>\n",
       "    <tr>\n",
       "      <th>4</th>\n",
       "      <td>Zhongli</td>\n",
       "      <td>Yelan</td>\n",
       "      <td>Arlecchino</td>\n",
       "      <td>Bennett</td>\n",
       "      <td>0.031</td>\n",
       "    </tr>\n",
       "    <tr>\n",
       "      <th>...</th>\n",
       "      <td>...</td>\n",
       "      <td>...</td>\n",
       "      <td>...</td>\n",
       "      <td>...</td>\n",
       "      <td>...</td>\n",
       "    </tr>\n",
       "    <tr>\n",
       "      <th>95</th>\n",
       "      <td>Hu Tao</td>\n",
       "      <td>Yelan</td>\n",
       "      <td>Xilonen</td>\n",
       "      <td>Xingqiu</td>\n",
       "      <td>0.000</td>\n",
       "    </tr>\n",
       "    <tr>\n",
       "      <th>96</th>\n",
       "      <td>Nahida</td>\n",
       "      <td>Lyney</td>\n",
       "      <td>Emilie</td>\n",
       "      <td>Xiangling</td>\n",
       "      <td>0.000</td>\n",
       "    </tr>\n",
       "    <tr>\n",
       "      <th>97</th>\n",
       "      <td>Venti</td>\n",
       "      <td>Yelan</td>\n",
       "      <td>Furina</td>\n",
       "      <td>Mualani</td>\n",
       "      <td>0.000</td>\n",
       "    </tr>\n",
       "    <tr>\n",
       "      <th>98</th>\n",
       "      <td>Clorinde</td>\n",
       "      <td>Xingqiu</td>\n",
       "      <td>Bennett</td>\n",
       "      <td>Kirara</td>\n",
       "      <td>0.000</td>\n",
       "    </tr>\n",
       "    <tr>\n",
       "      <th>99</th>\n",
       "      <td>Zhongli</td>\n",
       "      <td>Tartaglia</td>\n",
       "      <td>Kazuha</td>\n",
       "      <td>Neuvillette</td>\n",
       "      <td>0.000</td>\n",
       "    </tr>\n",
       "  </tbody>\n",
       "</table>\n",
       "<p>100 rows × 5 columns</p>\n",
       "</div>"
      ],
      "text/plain": [
       "   character_1  character_2  character_3  character_4  use_rate\n",
       "0       Kazuha  Neuvillette       Furina      Xilonen     0.124\n",
       "1       Kazuha       Baizhu  Neuvillette       Furina     0.050\n",
       "2      Zhongli       Kazuha  Neuvillette       Furina     0.044\n",
       "3      Zhongli       Hu Tao        Yelan      Xingqiu     0.041\n",
       "4      Zhongli        Yelan   Arlecchino      Bennett     0.031\n",
       "..         ...          ...          ...          ...       ...\n",
       "95      Hu Tao        Yelan      Xilonen      Xingqiu     0.000\n",
       "96      Nahida        Lyney       Emilie    Xiangling     0.000\n",
       "97       Venti        Yelan       Furina      Mualani     0.000\n",
       "98    Clorinde      Xingqiu      Bennett       Kirara     0.000\n",
       "99     Zhongli    Tartaglia       Kazuha  Neuvillette     0.000\n",
       "\n",
       "[100 rows x 5 columns]"
      ]
     },
     "execution_count": 32,
     "metadata": {},
     "output_type": "execute_result"
    }
   ],
   "source": [
    "df"
   ]
  },
  {
   "cell_type": "code",
   "execution_count": 31,
   "metadata": {},
   "outputs": [],
   "source": [
    "df['use_rate'] = df['use_rate']/100"
   ]
  },
  {
   "cell_type": "code",
   "execution_count": null,
   "metadata": {},
   "outputs": [],
   "source": [
    "# teams_df = pd.DataFrame({\n",
    "#     'character1': ['Character A', 'Character B', 'Character C', 'Character A'],\n",
    "#     'character2': ['Character B', 'Character A', 'Character A', 'Character B'],\n",
    "#     'character3': ['Character C', 'Character C', 'Character B', 'Character C'],\n",
    "#     'character4': ['Character D', 'Character D', 'Character D', 'Character D'],\n",
    "#     'usability%': [75, 65, 85, 75],\n",
    "#     'elemental_reaction': ['Reaction 1', 'Reaction 2', 'Reaction 1', 'Reaction 1'],\n",
    "#     'resonance': ['ATK, HP', 'DEF, HP', 'ATK, DEF', 'ATK, HP']\n",
    "# })\n",
    "\n",
    "# # Step 1: Combine characters into a set for each team\n",
    "# teams_df['team_set'] = teams_df[['character1', 'character2', 'character3', 'character4']].apply(\n",
    "#     lambda row: frozenset(row), axis=1\n",
    "# )\n",
    "\n",
    "# # Step 2: Remove duplicate teams based on the unique set of characters\n",
    "# unique_teams_df = teams_df.drop_duplicates(subset=['team_set']).reset_index(drop=True)\n",
    "\n",
    "# # Display the modified DataFrame with unique teams\n",
    "# unique_teams_df[['team_set', 'usability%', 'elemental_reaction', 'resonance']]"
   ]
  }
 ],
 "metadata": {
  "kernelspec": {
   "display_name": "Python 3",
   "language": "python",
   "name": "python3"
  },
  "language_info": {
   "codemirror_mode": {
    "name": "ipython",
    "version": 3
   },
   "file_extension": ".py",
   "mimetype": "text/x-python",
   "name": "python",
   "nbconvert_exporter": "python",
   "pygments_lexer": "ipython3",
   "version": "3.11.4"
  }
 },
 "nbformat": 4,
 "nbformat_minor": 2
}
